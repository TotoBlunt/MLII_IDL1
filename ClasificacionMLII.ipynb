{
 "cells": [
  {
   "cell_type": "code",
   "execution_count": null,
   "metadata": {
    "vscode": {
     "languageId": "plaintext"
    }
   },
   "outputs": [],
   "source": [
    "#Librerias a utilizar\n",
    "import pandas as pd \n",
    "import matplotlib.pyplot as plt\n",
    "import seaborn as sns\n",
    "from sklearn.cluster import KMeans, DBSCAN\n",
    "from sklearn.decomposition import PCA\n",
    "from sklearn.metrics import silhouette_score\n",
    "from sklearn.preprocessing import StandardScaler , LabelEncoder\n",
    "import numpy as np\n",
    "from sklearn.neighbors import NearestNeighbors\n",
    "# Para evaluar el modelo\n",
    "from sklearn.metrics import silhouette_score\n",
    "from sklearn.metrics import davies_bouldin_score"
   ]
  },
  {
   "cell_type": "code",
   "execution_count": null,
   "metadata": {
    "vscode": {
     "languageId": "plaintext"
    }
   },
   "outputs": [],
   "source": [
    "#Cargar DataFrame\n",
    "df = pd.read_csv('customer.csv')\n",
    "#Verificar Caracteristicas totales del DataFRame\n",
    "print(f'Caracteristicas Total del Dataframe: Filas: {df.shape[0]} , Columnas:{df.shape[1]}')\n",
    "#Veriricar los valores Nulos\n",
    "datos_nulos = [i for i in df.isna().sum() if i>1]\n",
    "print(f'Datos Nulos: {datos_nulos[0]}')\n",
    "porc_nulos = datos_nulos[0] / df.shape[0]\n",
    "print(f'Porcentaje de Valores nulos en la Data: {round(porc_nulos*100,1)} %')\n",
    "df.columns\n",
    "#Eliminar Datos nulos\n",
    "df.dropna(inplace=True)\n",
    "print(f'Dataframe Sin Valores Nulos: Filas: {df.shape[0]} , Columnas:{df.shape[1]}')"
   ]
  },
  {
   "cell_type": "code",
   "execution_count": null,
   "metadata": {
    "vscode": {
     "languageId": "plaintext"
    }
   },
   "outputs": [],
   "source": [
    "#Funciones para Visualizacion de Outliers y Tratamiento de los mismos\n",
    "\n",
    "def crearBoxPlot_Numericos(dataframe):\n",
    "    \"\"\"\n",
    "    Se realizara el diagrama de caja y bigotes de las columnas\n",
    "    numericas que no contengan 'palabra a eliminar'previemente descritas en el nombre.\n",
    "    Retornara el grafico que nos muestra los\n",
    "    datos outliers.\n",
    "\n",
    "    \"\"\"\n",
    "    col_grafico = []\n",
    "    palabra_a_eliminar=['ID','Year','Kid','Teen','Dt','Recency','Num','Accepted','Z_','Response','Complain']\n",
    "    columnas_a_eliminar = [col for col in dataframe.columns if any(p in col for p in palabra_a_eliminar)]\n",
    "    df_outlier = dataframe.drop(columnas_a_eliminar,axis=1)\n",
    "    for col in df_outlier.columns:\n",
    "        if pd.api.types.is_numeric_dtype(df_outlier[col]):\n",
    "            col_grafico.append(col)\n",
    "            sns.boxplot(df_outlier[col])\n",
    "            plt.title(f'Boxplot de {col}')\n",
    "            plt.show()\n",
    "    return col_grafico\n",
    "                \n",
    "#Funcion para tratar los outliers\n",
    "def manejar_outliers(dataframe, columnas):\n",
    "    \"\"\"\n",
    "    Identifica y elimina outliers en múltiples columnas de un DataFrame.\n",
    "    Args:\n",
    "        dataframe: El DataFrame de Pandas.\n",
    "        columnas: Una lista con los nombres de las columnas a procesar.\n",
    "    Returns:\n",
    "        Un nuevo DataFrame sin los outliers en las columnas especificadas.\n",
    "    \"\"\"\n",
    "    for columna in columnas:\n",
    "        if columna in dataframe.columns:\n",
    "            Q1 = dataframe[columna].quantile(0.25)\n",
    "            Q3 = dataframe[columna].quantile(0.75)\n",
    "            IQR = Q3 - Q1\n",
    "            # Crear una máscara booleana para filtrar los outliers\n",
    "            mascara_outliers = (dataframe[columna] < (Q1 - 1.5 * IQR)) | (dataframe[columna] > (Q3 + 1.5 * IQR))\n",
    "            # Reemplazar outliers con la mediana de la columna\n",
    "            mediana = dataframe[columna].median()\n",
    "            dataframe.loc[mascara_outliers, columna] = mediana\n",
    "            \n",
    "        # Verificar si se han aplicado los cambios en cada columna\n",
    "            print(f'Procesando columna: {columna}, Mediana: {mediana}, Outliers reemplazados: {mascara_outliers.sum()}')\n",
    "        else:\n",
    "            print(f\"Columna {columna} no encontrada en el DataFrame\")\n",
    "    return dataframe\n",
    "#Visualizar outliers y recoger la lista de columnas a trabajar para los outliers\n",
    "columnas_atrabajar = crearBoxPlot_Numericos(df)\n",
    "print(columnas_atrabajar)"
   ]
  },
  {
   "cell_type": "code",
   "execution_count": null,
   "metadata": {
    "vscode": {
     "languageId": "plaintext"
    }
   },
   "outputs": [],
   "source": [
    "#Manejar los Outlier con la mediana de cada columna\n",
    "df_sin_outliers = manejar_outliers(df,columnas_atrabajar)"
   ]
  },
  {
   "cell_type": "code",
   "execution_count": null,
   "metadata": {
    "vscode": {
     "languageId": "plaintext"
    }
   },
   "outputs": [],
   "source": [
    "#Creando boxplot General para verificar que este libre de Outliers\n",
    "sns.boxplot(df_sin_outliers[columnas_atrabajar])\n",
    "# Etiquetas y título\n",
    "plt.title('Boxplots de verificacion de Outliers')\n",
    "plt.xlabel('Columnas')\n",
    "plt.xticks(rotation=45)\n",
    "plt.ylabel('Valores')\n",
    "plt.show()"
   ]
  },
  {
   "cell_type": "code",
   "execution_count": null,
   "metadata": {
    "vscode": {
     "languageId": "plaintext"
    }
   },
   "outputs": [],
   "source": [
    "#Listar dataFrame con sus detalles\n",
    "df_sin_outliers.info()"
   ]
  },
  {
   "cell_type": "code",
   "execution_count": null,
   "metadata": {
    "vscode": {
     "languageId": "plaintext"
    }
   },
   "outputs": [],
   "source": [
    "#Previsalizar los datos\n",
    "df_sin_outliers.head()"
   ]
  },
  {
   "cell_type": "code",
   "execution_count": null,
   "metadata": {
    "vscode": {
     "languageId": "plaintext"
    }
   },
   "outputs": [],
   "source": [
    "#Categoricas a nuemricas\n",
    "# Iterar sobre las columnas categóricas\n",
    "for column in df_sin_outliers.select_dtypes(include='object').columns:\n",
    "    le = LabelEncoder()\n",
    "    \n",
    "    # Ajustar y transformar los valores de la columna categórica\n",
    "    df_sin_outliers[column] = le.fit_transform(df_sin_outliers[column])"
   ]
  },
  {
   "cell_type": "markdown",
   "metadata": {},
   "source": [
    "## Preparar Data para el Kmeans Standarizar"
   ]
  },
  {
   "cell_type": "code",
   "execution_count": null,
   "metadata": {
    "vscode": {
     "languageId": "plaintext"
    }
   },
   "outputs": [],
   "source": [
    "# Estándarizar las variables\n",
    "\n",
    "# Crear una instancia del algoritmo de estandarización\n",
    "scaler = StandardScaler()\n",
    "\n",
    "# Transformar (escalar) los datos\n",
    "var_scaled = scaler.fit_transform(df_sin_outliers)\n",
    "\n",
    "# Convertir el resultado a un DataFrame\n",
    "df_scaled = pd.DataFrame(var_scaled, columns=df_sin_outliers.columns)\n",
    "\n",
    "#Listar variables del dataset con sus detalles\n",
    "df_scaled.head()"
   ]
  },
  {
   "cell_type": "code",
   "execution_count": null,
   "metadata": {
    "vscode": {
     "languageId": "plaintext"
    }
   },
   "outputs": [],
   "source": [
    "# Trabajar solo con tres variables\n",
    "\n",
    "df_to_cluster = df_scaled[['Year_Birth', 'Education', 'Income']]\n",
    "df_to_cluster.head()"
   ]
  },
  {
   "cell_type": "code",
   "execution_count": null,
   "metadata": {
    "vscode": {
     "languageId": "plaintext"
    }
   },
   "outputs": [],
   "source": [
    "# Crear y ajustar tres clústers\n",
    "kmeans_model = KMeans(n_clusters=3)\n",
    "kmeans_model.fit(df_to_cluster)"
   ]
  },
  {
   "cell_type": "code",
   "execution_count": null,
   "metadata": {
    "vscode": {
     "languageId": "plaintext"
    }
   },
   "outputs": [],
   "source": [
    "# Asignar el clúster a cada fila del Dataset\n",
    "df_to_cluster['cluster'] = kmeans_model.labels_\n",
    "df_to_cluster.head()"
   ]
  },
  {
   "cell_type": "code",
   "execution_count": null,
   "metadata": {
    "vscode": {
     "languageId": "plaintext"
    }
   },
   "outputs": [],
   "source": [
    "# Plotear\n",
    "\n",
    "# Scatter\n",
    "fig = plt.figure(figsize=(10, 7))\n",
    "ax = fig.add_subplot(111, projection='3d')\n",
    "scatter = ax.scatter(df_to_cluster['Year_Birth'], df_to_cluster['Education'], df_to_cluster['Income'],\n",
    "                    c=df_to_cluster['cluster'],\n",
    "                    cmap='viridis',\n",
    "                    marker='o')\n",
    "\n",
    "# Centroides\n",
    "centers = kmeans_model.cluster_centers_\n",
    "\n",
    "ax.scatter(centers[:, 0], centers[:, 1], centers[:, 2],\n",
    "        s=300, c='red', marker='X', label='Centros')\n",
    "\n",
    "ax.set_xlabel('Year_Birth')\n",
    "ax.set_ylabel('Education')\n",
    "ax.set_zlabel('Income')\n",
    "plt.legend()\n",
    "plt.colorbar(scatter, label='Cluster')\n",
    "\n",
    "# Rotar el gráfico\n",
    "ax.view_init(elev=20, azim=30)\n",
    "\n",
    "plt.show()"
   ]
  },
  {
   "cell_type": "code",
   "execution_count": null,
   "metadata": {
    "vscode": {
     "languageId": "plaintext"
    }
   },
   "outputs": [],
   "source": [
    "# Caracterizar Los Clúster\n",
    "\n",
    "# Agregar al dataset original (sin escalar) la columna con el clúster estimado por el algoritmo\n",
    "df_sin_outliers['clúster'] =  kmeans_model.labels_\n",
    "\n",
    "# Separar cada clúster a su propio dataframe\n",
    "cluster1 = df_sin_outliers[df_sin_outliers['clúster']==0]\n",
    "cluster2 = df_sin_outliers[df_sin_outliers['clúster']==1]\n",
    "cluster3 = df_sin_outliers[df_sin_outliers['clúster']==2]"
   ]
  },
  {
   "cell_type": "code",
   "execution_count": null,
   "metadata": {
    "vscode": {
     "languageId": "plaintext"
    }
   },
   "outputs": [],
   "source": [
    "cluster1[['Year_Birth','Education', 'Income']].describe()\n",
    "#En este cluster se puede observar que ahy personas entre 51(2024-1973)  y  29(2024-1995) años con ingresos q varian de 50447 a 105471"
   ]
  },
  {
   "cell_type": "code",
   "execution_count": null,
   "metadata": {
    "vscode": {
     "languageId": "plaintext"
    }
   },
   "outputs": [],
   "source": [
    "cluster2[['Year_Birth','Education', 'Income']].describe()\n",
    "#En este cluster se puede observar que ahy personas entre 131(2024-1893)  y  41(2024-1983) años con ingresos q varian de 5648 a 1113734"
   ]
  },
  {
   "cell_type": "code",
   "execution_count": null,
   "metadata": {
    "vscode": {
     "languageId": "plaintext"
    }
   },
   "outputs": [],
   "source": [
    "cluster3[['Year_Birth','Education', 'Income']].describe()\n",
    "#En este cluster se puede observar que ahy personas entre 74(2024-1950)  y  28(2024-1996) años con ingresos q varian de 1730 a 52413"
   ]
  },
  {
   "cell_type": "code",
   "execution_count": null,
   "metadata": {
    "vscode": {
     "languageId": "plaintext"
    }
   },
   "outputs": [],
   "source": [
    "# Individuos por clúster\n",
    "\n",
    "# Agregar al dataset original (sin escalar) la columna con el clúster estimado por el algoritmo\n",
    "df_sin_outliers['cluster'] =  kmeans_model.labels_\n",
    "# Recuento\n",
    "df.groupby('cluster')['cluster'].count().reset_index(name='count')"
   ]
  },
  {
   "cell_type": "markdown",
   "metadata": {},
   "source": [
    "## Metricas de evaluacion del modelo"
   ]
  },
  {
   "cell_type": "code",
   "execution_count": null,
   "metadata": {
    "vscode": {
     "languageId": "plaintext"
    }
   },
   "outputs": [],
   "source": [
    "# Evaluation (Silhouette Coefficient)\n",
    "sil_score = silhouette_score(df_to_cluster, kmeans_model.labels_)\n",
    "print('Coeficiente de Silueta: {}'.format(sil_score))\n",
    "# Evaluation (Inertia)\n",
    "inertia_score = kmeans_model.inertia_\n",
    "print('Inercia: {}'.format(inertia_score))\n",
    "# Evaluation (Davies-Bouldin Score\n",
    "db_score = davies_bouldin_score(df_to_cluster, kmeans_model.labels_)\n",
    "print('Davies-Bouldin Score: {}'.format(db_score))"
   ]
  },
  {
   "cell_type": "markdown",
   "metadata": {},
   "source": [
    "## Ejemplo evaluación recursiva de K-Means (varios K)"
   ]
  },
  {
   "cell_type": "code",
   "execution_count": null,
   "metadata": {
    "vscode": {
     "languageId": "plaintext"
    }
   },
   "outputs": [],
   "source": [
    "# Número de clusters para probar\n",
    "k_range = range(2, 11)\n",
    "\n",
    "# Cálcular las métricas para todos los K\n",
    "sil_scores = []\n",
    "inertia_scores = []\n",
    "db_scores = []\n",
    "\n",
    "for k in k_range:\n",
    "    # Entrenamiento del modelo para cada K\n",
    "    kmeans_train = KMeans(n_clusters=k)\n",
    "    labels = kmeans_train.fit_predict(df_to_cluster)\n",
    "\n",
    "    # Evaluación Método: Silhouette Score\n",
    "    sil_score = silhouette_score(df_to_cluster, labels)\n",
    "    sil_scores.append(sil_score)\n",
    "\n",
    "    #  Evaluación Método: Inertia\n",
    "    inertia_score = kmeans_train.inertia_\n",
    "    inertia_scores.append(inertia_score)\n",
    "\n",
    "    #  Evaluación Método: Davies-Bouldin Score\n",
    "    db_score = davies_bouldin_score(df_to_cluster, labels)\n",
    "    db_scores.append(db_score)"
   ]
  },
  {
   "cell_type": "code",
   "execution_count": null,
   "metadata": {
    "vscode": {
     "languageId": "plaintext"
    }
   },
   "outputs": [],
   "source": [
    "# Crear la figura\n",
    "fig, axs = plt.subplots(3, 1, figsize=(8, 6), sharex=True)\n",
    "\n",
    "# Plot Silhouette Scores\n",
    "axs[0].plot(k_range, sil_scores, marker='o', color='blue')\n",
    "axs[0].set_title('Silhouette Score')\n",
    "\n",
    "# Plot Inertia Scores\n",
    "axs[1].plot(k_range, inertia_scores, marker='o', color='green')\n",
    "axs[1].set_title('Inertia Score')\n",
    "\n",
    "# Plot Davies-Bouldin Scores\n",
    "axs[2].plot(k_range, db_scores, marker='o', color='red')\n",
    "axs[2].set_title('Davies Bouldin Score')\n",
    "axs[2].set_xlabel('Número de Clusters (k)')\n",
    "\n",
    "plt.show()"
   ]
  },
  {
   "cell_type": "markdown",
   "metadata": {},
   "source": [
    "### Kmeans con las variables dadas por las metricas"
   ]
  },
  {
   "cell_type": "code",
   "execution_count": null,
   "metadata": {
    "vscode": {
     "languageId": "plaintext"
    }
   },
   "outputs": [],
   "source": [
    "# Crear y ajustar cuatro clústers\n",
    "kmeans_model_2 = KMeans(n_clusters=4)\n",
    "kmeans_model_2.fit(df_to_cluster)"
   ]
  },
  {
   "cell_type": "code",
   "execution_count": null,
   "metadata": {
    "vscode": {
     "languageId": "plaintext"
    }
   },
   "outputs": [],
   "source": [
    "# Evaluation (Silhouette Coefficient)\n",
    "sil_score_2 = silhouette_score(df_to_cluster, kmeans_model_2.labels_)\n",
    "print('Coeficiente de Silueta: {}'.format(sil_score_2))\n",
    "# Evaluation (Inertia)\n",
    "inertia_score_2 = kmeans_model_2.inertia_\n",
    "print('Inercia: {}'.format(inertia_score_2))\n",
    "# Evaluation (Davies-Bouldin Score\n",
    "db_score_2 = davies_bouldin_score(df_to_cluster, kmeans_model_2.labels_)\n",
    "print('Davies-Bouldin Score: {}'.format(db_score_2))"
   ]
  },
  {
   "cell_type": "code",
   "execution_count": null,
   "metadata": {
    "vscode": {
     "languageId": "plaintext"
    }
   },
   "outputs": [],
   "source": [
    "# Crear y ajustar diez clústers\n",
    "kmeans_model_3 = KMeans(n_clusters=10)\n",
    "kmeans_model_3.fit(df_to_cluster)"
   ]
  },
  {
   "cell_type": "code",
   "execution_count": null,
   "metadata": {
    "vscode": {
     "languageId": "plaintext"
    }
   },
   "outputs": [],
   "source": [
    "# Evaluation (Silhouette Coefficient)\n",
    "sil_score_3 = silhouette_score(df_to_cluster, kmeans_model_3.labels_)\n",
    "print('Coeficiente de Silueta: {}'.format(sil_score_3))\n",
    "# Evaluation (Inertia)\n",
    "inertia_score_3 = kmeans_model_3.inertia_\n",
    "print('Inercia: {}'.format(inertia_score_3))\n",
    "# Evaluation (Davies-Bouldin Score\n",
    "db_score_3 = davies_bouldin_score(df_to_cluster, kmeans_model_3.labels_)\n",
    "print('Davies-Bouldin Score: {}'.format(db_score_3))"
   ]
  },
  {
   "cell_type": "code",
   "execution_count": null,
   "metadata": {
    "vscode": {
     "languageId": "plaintext"
    }
   },
   "outputs": [],
   "source": [
    "#Comparacion de Metricas\n",
    "dic_metric = {\n",
    "                'N° Cluster':[3,4,10],\n",
    "                'Silueta':[sil_score,sil_score_2,sil_score_3],\n",
    "                'Inercia' : [inertia_score,inertia_score_2,inertia_score_3],\n",
    "                'Davies-Boulding Score': [db_score,db_score_2,db_score_3]\n",
    "                }\n",
    "df_metric = pd.DataFrame(dic_metric)\n",
    "df_metric"
   ]
  },
  {
   "cell_type": "markdown",
   "metadata": {},
   "source": [
    "## Modelo con DBScan"
   ]
  },
  {
   "cell_type": "code",
   "execution_count": null,
   "metadata": {
    "vscode": {
     "languageId": "plaintext"
    }
   },
   "outputs": [],
   "source": [
    "k = 6\n",
    "neighbors = NearestNeighbors(n_neighbors=k)\n",
    "neighbors_fit = neighbors.fit(df_to_cluster)\n",
    "distances, indices = neighbors_fit.kneighbors(df_to_cluster)\n",
    "distances = np.sort(distances[:, k-1], axis=0)\n",
    "\n",
    "# Graficar\n",
    "plt.figure(figsize=(8, 6))\n",
    "plt.plot(distances)\n",
    "plt.grid(True, which='both', linestyle='--', linewidth=0.7)\n",
    "\n",
    "plt.xlabel('Puntos Ordenados')\n",
    "\n",
    "plt.ylabel('Distancia k-ésima')\n",
    "plt.yticks(np.arange(0, max(distances) , 0.1))\n",
    "\n",
    "plt.show()"
   ]
  },
  {
   "cell_type": "code",
   "execution_count": null,
   "metadata": {
    "vscode": {
     "languageId": "plaintext"
    }
   },
   "outputs": [],
   "source": [
    "#Vemos en la figura un epsilon de 0.5 como mejor referencia\n",
    "# Ajustar modelo DBScan\n",
    "dbs_model = DBSCAN(eps=.6, min_samples=6)\n",
    "dbs_model.fit(df_to_cluster)"
   ]
  },
  {
   "cell_type": "code",
   "execution_count": null,
   "metadata": {
    "vscode": {
     "languageId": "plaintext"
    }
   },
   "outputs": [],
   "source": [
    "# Recuento de inviduos por cada Clúster\n",
    "resumen = pd.Series(dbs_model.labels_).value_counts()\n",
    "resumen = pd.DataFrame(resumen)\n",
    "\n",
    "resumen.index.name = 'Clúster'\n",
    "resumen.columns = ['Cantidad']\n",
    "resumen"
   ]
  },
  {
   "cell_type": "code",
   "execution_count": null,
   "metadata": {
    "vscode": {
     "languageId": "plaintext"
    }
   },
   "outputs": [],
   "source": [
    "# Asignar el clúster a cada fila del Dataset original (sin escalar)\n",
    "df_sin_outliers['cluster_DBScan'] = dbs_model.labels_\n",
    "df_sin_outliers.head()"
   ]
  },
  {
   "cell_type": "code",
   "execution_count": null,
   "metadata": {
    "vscode": {
     "languageId": "plaintext"
    }
   },
   "outputs": [],
   "source": [
    "# Plotear\n",
    "\n",
    "# Scatter\n",
    "fig = plt.figure(figsize=(10, 7))\n",
    "ax = fig.add_subplot(111, projection='3d')\n",
    "scatter = ax.scatter(df_sin_outliers['Year_Birth'], df_sin_outliers['Education'], df_sin_outliers['Income'],\n",
    "                    c=df_sin_outliers['cluster_DBScan'],\n",
    "                    cmap='viridis',\n",
    "                    marker='o')\n",
    "\n",
    "\n",
    "ax.set_xlabel('Year_Birth')\n",
    "ax.set_ylabel('Education')\n",
    "ax.set_zlabel('Income')\n",
    "plt.colorbar(scatter, label='Cluster')\n",
    "\n",
    "# Rotar el gráfico\n",
    "ax.view_init(elev=20, azim=30)\n",
    "\n",
    "plt.show()"
   ]
  },
  {
   "cell_type": "code",
   "execution_count": null,
   "metadata": {
    "vscode": {
     "languageId": "plaintext"
    }
   },
   "outputs": [],
   "source": [
    "#Metricas de Evaluacion\n",
    "# Evaluation (Silhouette Coefficient)\n",
    "sil_score_dbs = silhouette_score(df_to_cluster, dbs_model.labels_)\n",
    "print('Coeficiente de Silueta: {}'.format(sil_score_dbs))\n",
    "# Evaluation (Davies-Bouldin Score\n",
    "db_score_dbs = davies_bouldin_score(df_to_cluster, dbs_model.labels_)\n",
    "print('Davies-Bouldin Score: {}'.format(db_score_dbs))"
   ]
  },
  {
   "cell_type": "code",
   "execution_count": null,
   "metadata": {
    "vscode": {
     "languageId": "plaintext"
    }
   },
   "outputs": [],
   "source": [
    "#Visualizacion de los datos para el analisis\n",
    "df_sin_outliers.head()"
   ]
  },
  {
   "cell_type": "code",
   "execution_count": null,
   "metadata": {
    "vscode": {
     "languageId": "plaintext"
    }
   },
   "outputs": [],
   "source": [
    "#Visualizar los datos de cada cluster \n",
    "\n",
    "cluster_dbsca = {}\n",
    "unique_cluster = df_sin_outliers['cluster_DBScan']\n",
    "for i in unique_cluster:\n",
    "    cluster_dbsca[i]=df_sin_outliers[df_sin_outliers['cluster_DBScan'] == i]\n",
    "    \n",
    "for i in range(12): \n",
    "    print(f'\\nCluster N°{i+1}')\n",
    "    print(cluster_dbsca[i][['Year_Birth','Education','Income']].describe())"
   ]
  }
 ],
 "metadata": {
  "language_info": {
   "name": "python"
  }
 },
 "nbformat": 4,
 "nbformat_minor": 2
}
